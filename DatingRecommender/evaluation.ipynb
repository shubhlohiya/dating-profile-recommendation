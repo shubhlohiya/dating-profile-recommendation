{
 "cells": [
  {
   "cell_type": "code",
   "execution_count": 1,
   "metadata": {},
   "outputs": [],
   "source": [
    "from eval import eval_test_recos\n",
    "import numpy as np\n",
    "import pandas as pd\n",
    "from tqdm.notebook import tqdm"
   ]
  },
  {
   "cell_type": "code",
   "execution_count": 2,
   "metadata": {},
   "outputs": [],
   "source": [
    "np.random.seed(123)"
   ]
  },
  {
   "cell_type": "code",
   "execution_count": 3,
   "metadata": {},
   "outputs": [],
   "source": [
    "test_df = pd.read_csv('../data/test.csv')\n",
    "profiles_df = pd.read_csv('../data/train.csv')\n",
    "\n",
    "test_df = test_df.fillna('')\n",
    "profiles_df = profiles_df.fillna('')"
   ]
  },
  {
   "cell_type": "code",
   "execution_count": 4,
   "metadata": {},
   "outputs": [],
   "source": [
    "def eval_test_sample(sample_size, params):\n",
    "    eval_score = eval_test_recos(test_df.sample(sample_size),\n",
    "                                 profiles_df, **params)\n",
    "    return eval_score"
   ]
  },
  {
   "cell_type": "markdown",
   "metadata": {},
   "source": [
    "### Threshold = 0.25"
   ]
  },
  {
   "cell_type": "code",
   "execution_count": 5,
   "metadata": {
    "scrolled": true
   },
   "outputs": [
    {
     "data": {
      "application/vnd.jupyter.widget-view+json": {
       "model_id": "fb8cf69dfbf3445d9532c6784b90347f",
       "version_major": 2,
       "version_minor": 0
      },
      "text/plain": [
       "HBox(children=(HTML(value=''), FloatProgress(value=0.0, max=50.0), HTML(value='')))"
      ]
     },
     "metadata": {},
     "output_type": "display_data"
    },
    {
     "name": "stderr",
     "output_type": "stream",
     "text": [
      "                                                 \r"
     ]
    },
    {
     "name": "stdout",
     "output_type": "stream",
     "text": [
      "\n",
      "Approx evaluation on test data for logistic regression model 0.7956\n"
     ]
    }
   ],
   "source": [
    "params = {'mode': 'ml', 'model': 'logistic', 'topk': 5, 'threshold': 0.25}\n",
    "\n",
    "scores = []\n",
    "for i in tqdm(range(50), total=50):\n",
    "    scores.append(eval_test_sample(sample_size=100, params=params))\n",
    "    \n",
    "print('Approx evaluation on test data for logistic regression model',\n",
    "      np.round(np.mean(scores), 4))"
   ]
  },
  {
   "cell_type": "code",
   "execution_count": 7,
   "metadata": {},
   "outputs": [
    {
     "data": {
      "application/vnd.jupyter.widget-view+json": {
       "model_id": "fa732452c63743a09f88a41a1f891099",
       "version_major": 2,
       "version_minor": 0
      },
      "text/plain": [
       "HBox(children=(HTML(value=''), FloatProgress(value=0.0, max=50.0), HTML(value='')))"
      ]
     },
     "metadata": {},
     "output_type": "display_data"
    },
    {
     "name": "stderr",
     "output_type": "stream",
     "text": [
      "                                                 "
     ]
    },
    {
     "name": "stdout",
     "output_type": "stream",
     "text": [
      "\n",
      "Approx evaluation on test data for MLPClassifier model 0.7994\n"
     ]
    },
    {
     "name": "stderr",
     "output_type": "stream",
     "text": [
      "\r"
     ]
    }
   ],
   "source": [
    "params = {'mode': 'ml', 'model': 'MLP', 'topk': 5, 'threshold': 0.25}\n",
    "\n",
    "scores = []\n",
    "for i in tqdm(range(50), total=50):\n",
    "    scores.append(eval_test_sample(sample_size=100, params=params))\n",
    "    \n",
    "print('Approx evaluation on test data for MLPClassifier model',\n",
    "      np.round(np.mean(scores), 4))"
   ]
  },
  {
   "cell_type": "code",
   "execution_count": 10,
   "metadata": {},
   "outputs": [
    {
     "data": {
      "application/vnd.jupyter.widget-view+json": {
       "model_id": "235d914ab5414ced8c5c44fe50cdff63",
       "version_major": 2,
       "version_minor": 0
      },
      "text/plain": [
       "HBox(children=(HTML(value=''), FloatProgress(value=0.0, max=50.0), HTML(value='')))"
      ]
     },
     "metadata": {},
     "output_type": "display_data"
    },
    {
     "name": "stderr",
     "output_type": "stream",
     "text": [
      "                                                  "
     ]
    },
    {
     "name": "stdout",
     "output_type": "stream",
     "text": [
      "\n",
      "Approx evaluation on test data for Naive model 0.7862\n"
     ]
    },
    {
     "name": "stderr",
     "output_type": "stream",
     "text": [
      "\r"
     ]
    }
   ],
   "source": [
    "params = {'mode': 'naive', 'model': None, 'topk': 5, 'threshold': 0.25}\n",
    "\n",
    "scores = []\n",
    "for i in tqdm(range(50), total=50):\n",
    "    scores.append(eval_test_sample(sample_size=100, params=params))\n",
    "    \n",
    "print('Approx evaluation on test data for Naive model',\n",
    "      np.round(np.mean(scores), 4))"
   ]
  },
  {
   "cell_type": "markdown",
   "metadata": {},
   "source": [
    "### Threshold = 0.5"
   ]
  },
  {
   "cell_type": "code",
   "execution_count": 8,
   "metadata": {
    "scrolled": true
   },
   "outputs": [
    {
     "data": {
      "application/vnd.jupyter.widget-view+json": {
       "model_id": "b33ea24362cb4c3b9c732bc1d41a70d0",
       "version_major": 2,
       "version_minor": 0
      },
      "text/plain": [
       "HBox(children=(HTML(value=''), FloatProgress(value=0.0, max=50.0), HTML(value='')))"
      ]
     },
     "metadata": {},
     "output_type": "display_data"
    },
    {
     "name": "stderr",
     "output_type": "stream",
     "text": [
      "                                                 "
     ]
    },
    {
     "name": "stdout",
     "output_type": "stream",
     "text": [
      "\n",
      "Approx evaluation on test data for logistic regression model 0.7845\n"
     ]
    },
    {
     "name": "stderr",
     "output_type": "stream",
     "text": [
      "\r"
     ]
    }
   ],
   "source": [
    "params = {'mode': 'ml', 'model': 'logistic', 'topk': 5, 'threshold': 0.5}\n",
    "\n",
    "scores = []\n",
    "for i in tqdm(range(50), total=50):\n",
    "    scores.append(eval_test_sample(sample_size=100, params=params))\n",
    "    \n",
    "print('Approx evaluation on test data for logistic regression model',\n",
    "      np.round(np.mean(scores), 4))"
   ]
  },
  {
   "cell_type": "code",
   "execution_count": 9,
   "metadata": {},
   "outputs": [
    {
     "data": {
      "application/vnd.jupyter.widget-view+json": {
       "model_id": "f048a8bc98ee4ab882363e7d9ae75682",
       "version_major": 2,
       "version_minor": 0
      },
      "text/plain": [
       "HBox(children=(HTML(value=''), FloatProgress(value=0.0, max=50.0), HTML(value='')))"
      ]
     },
     "metadata": {},
     "output_type": "display_data"
    },
    {
     "name": "stderr",
     "output_type": "stream",
     "text": [
      "                                                  "
     ]
    },
    {
     "name": "stdout",
     "output_type": "stream",
     "text": [
      "\n",
      "Approx evaluation on test data for MLPClassifier model 0.7858\n"
     ]
    },
    {
     "name": "stderr",
     "output_type": "stream",
     "text": [
      "\r"
     ]
    }
   ],
   "source": [
    "params = {'mode': 'ml', 'model': 'MLP', 'topk': 5, 'threshold': 0.5}\n",
    "\n",
    "scores = []\n",
    "for i in tqdm(range(50), total=50):\n",
    "    scores.append(eval_test_sample(sample_size=100, params=params))\n",
    "    \n",
    "print('Approx evaluation on test data for MLPClassifier model',\n",
    "      np.round(np.mean(scores), 4))"
   ]
  },
  {
   "cell_type": "code",
   "execution_count": 11,
   "metadata": {},
   "outputs": [
    {
     "data": {
      "application/vnd.jupyter.widget-view+json": {
       "model_id": "9ba6a98383f944e1a70b511da7734c9a",
       "version_major": 2,
       "version_minor": 0
      },
      "text/plain": [
       "HBox(children=(HTML(value=''), FloatProgress(value=0.0, max=50.0), HTML(value='')))"
      ]
     },
     "metadata": {},
     "output_type": "display_data"
    },
    {
     "name": "stderr",
     "output_type": "stream",
     "text": [
      "                                                    "
     ]
    },
    {
     "name": "stdout",
     "output_type": "stream",
     "text": [
      "\n",
      "Approx evaluation on test data for Naive model 0.0074\n"
     ]
    },
    {
     "name": "stderr",
     "output_type": "stream",
     "text": [
      "\r"
     ]
    }
   ],
   "source": [
    "params = {'mode': 'naive', 'model': None, 'topk': 5, 'threshold': 0.5}\n",
    "\n",
    "scores = []\n",
    "for i in tqdm(range(50), total=50):\n",
    "    scores.append(eval_test_sample(sample_size=100, params=params))\n",
    "    \n",
    "print('Approx evaluation on test data for Naive model',\n",
    "      np.round(np.mean(scores), 4))"
   ]
  }
 ],
 "metadata": {
  "kernelspec": {
   "display_name": "Python 3",
   "language": "python",
   "name": "python3"
  },
  "language_info": {
   "codemirror_mode": {
    "name": "ipython",
    "version": 3
   },
   "file_extension": ".py",
   "mimetype": "text/x-python",
   "name": "python",
   "nbconvert_exporter": "python",
   "pygments_lexer": "ipython3",
   "version": "3.8.5"
  }
 },
 "nbformat": 4,
 "nbformat_minor": 4
}
